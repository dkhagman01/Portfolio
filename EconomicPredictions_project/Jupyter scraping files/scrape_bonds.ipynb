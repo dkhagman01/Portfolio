{
 "cells": [
  {
   "cell_type": "code",
   "execution_count": 1,
   "metadata": {},
   "outputs": [],
   "source": [
    "# Dependenceis\n",
    "from splinter import Browser\n",
    "from bs4 import BeautifulSoup\n",
    "import pandas as pd\n",
    "import requests\n",
    "import time"
   ]
  },
  {
   "cell_type": "code",
   "execution_count": 2,
   "metadata": {},
   "outputs": [
    {
     "name": "stdout",
     "output_type": "stream",
     "text": [
      "/usr/local/bin/chromedriver\r\n"
     ]
    }
   ],
   "source": [
    "# MAC user: \n",
    "#https://splinter.readthedocs.io/en/latest/drivers/chrome.html\n",
    "!which chromedriver\n"
   ]
  },
  {
   "cell_type": "code",
   "execution_count": 3,
   "metadata": {},
   "outputs": [],
   "source": [
    "#executable_path = {'executable_path': '/usr/local/bin/chromedriver'}\n",
    "#browser = Browser('chrome', **executable_path, headless=False)\n",
    "\n",
    "# Initialize browser\n",
    "#def init_browser():\n",
    "# using the output above to define our executable path with splinter\n",
    "executable_path = {'executable_path': '/usr/local/bin/chromedriver'}\n",
    "browser = Browser('chrome', **executable_path, headless=True) #if headless=False, then the scrapped page will remain on display"
   ]
  },
  {
   "cell_type": "code",
   "execution_count": 4,
   "metadata": {},
   "outputs": [],
   "source": [
    "# Identifying the website to be scrapped and establishing a connection\n",
    "url = 'https://finance.yahoo.com/bonds/'\n",
    "browser.visit(url)\n"
   ]
  },
  {
   "cell_type": "code",
   "execution_count": 5,
   "metadata": {},
   "outputs": [],
   "source": [
    "# Creating a beautifulsoup object and parsing this object\n",
    "html = browser.html\n",
    "soup = BeautifulSoup(html, 'html.parser')\n",
    "#browser.quit() # this command will also close the browser window after scaping"
   ]
  },
  {
   "cell_type": "code",
   "execution_count": 6,
   "metadata": {},
   "outputs": [
    {
     "name": "stdout",
     "output_type": "stream",
     "text": [
      "[<span class=\"Trsdu(0.3s) Fz(s) Mt(4px) Mb(0px) Fw(b) D(ib)\" data-reactid=\"18\">3,010.29</span>, <span class=\"Trsdu(0.3s) C($dataGreen)\" data-reactid=\"20\">+5.77</span>, <span class=\"Trsdu(0.3s) C($dataGreen)\" data-reactid=\"23\">+0.19%</span>, <span class=\"Trsdu(0.3s) Fz(s) Mt(4px) Mb(0px) Fw(b) D(ib)\" data-reactid=\"31\">26,805.53</span>, <span class=\"Trsdu(0.3s) C($dataRed)\" data-reactid=\"33\">-28.42</span>, <span class=\"Trsdu(0.3s) C($dataRed)\" data-reactid=\"36\">-0.11%</span>, <span class=\"Trsdu(0.3s) Fz(s) Mt(4px) Mb(0px) Fw(b) D(ib)\" data-reactid=\"44\">8,185.80</span>, <span class=\"Trsdu(0.3s) C($dataGreen)\" data-reactid=\"46\">+66.00</span>, <span class=\"Trsdu(0.3s) C($dataGreen)\" data-reactid=\"49\">+0.81%</span>, <span class=\"Trsdu(0.3s) Fz(s) Mt(4px) Mb(0px) Fw(b) D(ib)\">1,550.18</span>, <span class=\"Trsdu(0.3s) C($dataRed)\">-2.67</span>, <span class=\"Trsdu(0.3s) C($dataRed)\">-0.17%</span>, <span class=\"Trsdu(0.3s) Fz(s) Mt(4px) Mb(0px) Fw(b) D(ib)\">56.07</span>, <span class=\"Trsdu(0.3s) C($dataRed)\">-0.16</span>, <span class=\"Trsdu(0.3s) C($dataRed)\">-0.28%</span>, <span class=\"Trsdu(0.3s) C($dataGreen)\" data-reactid=\"46\">+0.0080</span>, <span class=\"Trsdu(0.3s) C($dataGreen)\" data-reactid=\"48\">+0.50%</span>, <span class=\"Trsdu(0.3s) C($dataGreen)\" data-reactid=\"60\">+0.0010</span>, <span class=\"Trsdu(0.3s) C($dataGreen)\" data-reactid=\"62\">+0.06%</span>, <span class=\"Trsdu(0.3s) C($dataGreen)\" data-reactid=\"74\">+0.0070</span>, <span class=\"Trsdu(0.3s) C($dataGreen)\" data-reactid=\"76\">+0.40%</span>, <span class=\"Trsdu(0.3s) C($dataGreen)\" data-reactid=\"88\">+0.0080</span>, <span class=\"Trsdu(0.3s) C($dataGreen)\" data-reactid=\"90\">+0.36%</span>]\n"
     ]
    }
   ],
   "source": [
    "dow30 = soup.find_all('span', class_='Trsdu(0.3s)')\n",
    "print(dow30)"
   ]
  },
  {
   "cell_type": "code",
   "execution_count": 7,
   "metadata": {},
   "outputs": [
    {
     "data": {
      "text/plain": [
       "23"
      ]
     },
     "execution_count": 7,
     "metadata": {},
     "output_type": "execute_result"
    }
   ],
   "source": [
    "len(dow30)"
   ]
  },
  {
   "cell_type": "code",
   "execution_count": 8,
   "metadata": {},
   "outputs": [
    {
     "name": "stdout",
     "output_type": "stream",
     "text": [
      "3,010.29\n"
     ]
    }
   ],
   "source": [
    "print(dow30[0].text)"
   ]
  },
  {
   "cell_type": "code",
   "execution_count": 9,
   "metadata": {},
   "outputs": [
    {
     "name": "stdout",
     "output_type": "stream",
     "text": [
      "26,805.53\n",
      "3,010.29\n",
      "8,185.80\n"
     ]
    }
   ],
   "source": [
    "\n",
    "dow = (dow30[3].text)\n",
    "snp = (dow30[0].text)\n",
    "nasdaq = (dow30[6].text)\n",
    "\n",
    "print(dow)\n",
    "print(snp)\n",
    "print(nasdaq)"
   ]
  },
  {
   "cell_type": "code",
   "execution_count": 10,
   "metadata": {},
   "outputs": [
    {
     "name": "stdout",
     "output_type": "stream",
     "text": [
      "SymbolNameLast PriceChange% Change52 Week RangeDay Chart^IRX13 Week Treasury Bill1.6230+0.0080+0.50%^FVXTreasury Yield 5 Years1.5870+0.0010+0.06%^TNXTreasury Yield 10 Years1.7660+0.0070+0.40%^TYXTreasury Yield 30 Years2.2590+0.0080+0.36%\n"
     ]
    }
   ],
   "source": [
    "quotes = soup.find_all('div', class_='Ovx(a)')\n",
    "quote = quotes[0].text\n",
    "print(quote)"
   ]
  },
  {
   "cell_type": "code",
   "execution_count": 14,
   "metadata": {},
   "outputs": [
    {
     "name": "stdout",
     "output_type": "stream",
     "text": [
      "1.6230\n",
      "1.5870\n",
      "1.7660\n"
     ]
    }
   ],
   "source": [
    "wk13 = (quote[81:87])\n",
    "yr5 = (quote[126:132]) #changed from 126:132\n",
    "yr10 = (quote[172:178]) #changed from 172:178\n",
    "print(wk13)\n",
    "print(yr5)\n",
    "print(yr10)"
   ]
  },
  {
   "cell_type": "code",
   "execution_count": 12,
   "metadata": {},
   "outputs": [],
   "source": [
    "item_list = []"
   ]
  },
  {
   "cell_type": "code",
   "execution_count": 13,
   "metadata": {},
   "outputs": [
    {
     "ename": "TypeError",
     "evalue": "'builtin_function_or_method' object is not subscriptable",
     "output_type": "error",
     "traceback": [
      "\u001b[0;31m---------------------------------------------------------------------------\u001b[0m",
      "\u001b[0;31mTypeError\u001b[0m                                 Traceback (most recent call last)",
      "\u001b[0;32m<ipython-input-13-aef1f8b287fb>\u001b[0m in \u001b[0;36m<module>\u001b[0;34m\u001b[0m\n\u001b[0;32m----> 1\u001b[0;31m \u001b[0mitem_list\u001b[0m\u001b[0;34m.\u001b[0m\u001b[0mappend\u001b[0m\u001b[0;34m[\u001b[0m\u001b[0mdow\u001b[0m\u001b[0;34m]\u001b[0m\u001b[0;34m\u001b[0m\u001b[0;34m\u001b[0m\u001b[0m\n\u001b[0m",
      "\u001b[0;31mTypeError\u001b[0m: 'builtin_function_or_method' object is not subscriptable"
     ]
    }
   ],
   "source": [
    "item_list.append[dow]"
   ]
  },
  {
   "cell_type": "code",
   "execution_count": null,
   "metadata": {},
   "outputs": [],
   "source": []
  }
 ],
 "metadata": {
  "kernelspec": {
   "display_name": "Python 3",
   "language": "python",
   "name": "python3"
  },
  "language_info": {
   "codemirror_mode": {
    "name": "ipython",
    "version": 3
   },
   "file_extension": ".py",
   "mimetype": "text/x-python",
   "name": "python",
   "nbconvert_exporter": "python",
   "pygments_lexer": "ipython3",
   "version": "3.7.3"
  }
 },
 "nbformat": 4,
 "nbformat_minor": 2
}
